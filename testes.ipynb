{
 "cells": [
  {
   "cell_type": "code",
   "execution_count": null,
   "metadata": {},
   "outputs": [],
   "source": [
    "# library & dataset\n",
    "import seaborn as sns\n",
    "df = sns.load_dataset('iris')\n",
    "\n",
    "# Plot the histogram thanks to the displot function\n",
    "sns.displot( data=df[\"sepal_length\"], kde=True )\n"
   ]
  },
  {
   "cell_type": "code",
   "execution_count": null,
   "metadata": {},
   "outputs": [],
   "source": [
    "list1 = ['This is', 'the only tool']\n",
    "list2 = ['that', 'lets', 'you', 'visually']\n",
    "print(' '.join(list1 + list2))\n",
    "myTuple = ('debug code', 'step-by-step!')\n",
    "print(' '.join(myTuple))\n",
    "fruitSet = {'apple',\n",
    "            'banana',\n",
    "            'cherry',\n",
    "            'durian'}\n",
    "print(' '.join(fruitSet))"
   ]
  },
  {
   "cell_type": "code",
   "execution_count": null,
   "metadata": {},
   "outputs": [],
   "source": [
    "teste = int(input(\"digite\"))\n",
    "idade = teste >= 18\n",
    "if idade:\n",
    "    print(\"teste ok\")\n",
    "else: print(\"error\")\n"
   ]
  },
  {
   "cell_type": "code",
   "execution_count": null,
   "metadata": {},
   "outputs": [],
   "source": [
    "idade = int(input(\"Digite a idade:\"))\n",
    "tempo_cnh = int(input(\"Digite o tempo de CNH:\"))\n",
    "\n",
    "aliquota = 0.05\n",
    "\n",
    "if idade < 25:\n",
    "    aliquota += 0.03\n",
    "    \n",
    "if tempo_cnh < 3:\n",
    "    aliquota += 0.02\n",
    "    \n",
    "print(f\"Sua aliquota é: {aliquota:.1%}\")\n"
   ]
  },
  {
   "cell_type": "code",
   "execution_count": 32,
   "metadata": {},
   "outputs": [
    {
     "name": "stdout",
     "output_type": "stream",
     "text": [
      "21 é impar!\n"
     ]
    }
   ],
   "source": [
    "n = int(input(\"Digite um número:\"))\n",
    "if n % 2 != 1:\n",
    "    print(f\"{n} é par!\")\n",
    "else:\n",
    "    print(f\"{n} é impar!\")"
   ]
  },
  {
   "cell_type": "code",
   "execution_count": 51,
   "metadata": {},
   "outputs": [
    {
     "name": "stdout",
     "output_type": "stream",
     "text": [
      "42 é divisível!\n"
     ]
    }
   ],
   "source": [
    "n = int(input(\"Digite um número inteiro:\"))\n",
    "if n % 2 == 0 and n % 7 == 0:\n",
    "    print(f\"{n} é divisível!\")\n",
    "else:\n",
    "    print(f\"{n} não é divisível!\")"
   ]
  },
  {
   "cell_type": "code",
   "execution_count": 61,
   "metadata": {},
   "outputs": [
    {
     "name": "stdout",
     "output_type": "stream",
     "text": [
      "Valor final: R$ 276.00\n"
     ]
    }
   ],
   "source": [
    "valor = float(input(\"Preço unitário:\"))\n",
    "qtd = int(input(\"Quantidade comprada:\"))\n",
    "total = valor * qtd\n",
    "\n",
    "if qtd >= 25 or total > 200:\n",
    "    desconto = 0.08 * total\n",
    "    total -= desconto\n",
    "\n",
    "print(f\"Valor final: R$ {total:.2f}\")"
   ]
  }
 ],
 "metadata": {
  "kernelspec": {
   "display_name": "Python 3",
   "language": "python",
   "name": "python3"
  },
  "language_info": {
   "codemirror_mode": {
    "name": "ipython",
    "version": 3
   },
   "file_extension": ".py",
   "mimetype": "text/x-python",
   "name": "python",
   "nbconvert_exporter": "python",
   "pygments_lexer": "ipython3",
   "version": "3.12.7"
  }
 },
 "nbformat": 4,
 "nbformat_minor": 2
}
