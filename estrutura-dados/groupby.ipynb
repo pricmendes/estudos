{
 "cells": [
  {
   "cell_type": "code",
   "execution_count": 1,
   "metadata": {},
   "outputs": [],
   "source": [
    "\n",
    "import pandas as pd"
   ]
  },
  {
   "cell_type": "code",
   "execution_count": 2,
   "metadata": {},
   "outputs": [],
   "source": [
    "# Criando um DataFrame de exemplo\n",
    "data = {'Categoria': ['A', 'B', 'A', 'C', 'B'],\n",
    "        'Valor': [10, 15, 12, 8, 20]}\n",
    "df = pd.DataFrame(data)"
   ]
  },
  {
   "cell_type": "code",
   "execution_count": 3,
   "metadata": {},
   "outputs": [],
   "source": [
    "# Agrupando por categoria e calculando a soma dos valores\n",
    "grouped = df.groupby('Categoria')['Valor'].sum()"
   ]
  },
  {
   "cell_type": "code",
   "execution_count": 4,
   "metadata": {},
   "outputs": [
    {
     "name": "stdout",
     "output_type": "stream",
     "text": [
      "Categoria\n",
      "B    35\n",
      "A    22\n",
      "C     8\n",
      "Name: Valor, dtype: int64\n"
     ]
    }
   ],
   "source": [
    "# Ordenando os resultados em ordem decrescente\n",
    "grouped_sorted = grouped.sort_values(ascending=False)\n",
    "\n",
    "print(grouped_sorted)"
   ]
  }
 ],
 "metadata": {
  "kernelspec": {
   "display_name": "Python 3",
   "language": "python",
   "name": "python3"
  },
  "language_info": {
   "codemirror_mode": {
    "name": "ipython",
    "version": 3
   },
   "file_extension": ".py",
   "mimetype": "text/x-python",
   "name": "python",
   "nbconvert_exporter": "python",
   "pygments_lexer": "ipython3",
   "version": "3.12.7"
  }
 },
 "nbformat": 4,
 "nbformat_minor": 2
}
