{
 "cells": [
  {
   "cell_type": "code",
   "execution_count": 52,
   "metadata": {},
   "outputs": [],
   "source": [
    "import pandas as pd"
   ]
  },
  {
   "cell_type": "code",
   "execution_count": 53,
   "metadata": {},
   "outputs": [],
   "source": [
    "# Carregando os dados\n",
    "df = pd.read_csv(r\"C:\\Users\\prisc\\OneDrive\\Documentos\\aPRI\\ESTUDOS\\DADOS\\UNICESUMAR\\VISUALIZAÇÃO DE DADOS\\mulheres_futebol\\results.csv\")"
   ]
  },
  {
   "cell_type": "code",
   "execution_count": 54,
   "metadata": {},
   "outputs": [
    {
     "name": "stdout",
     "output_type": "stream",
     "text": [
      "           date      home_team      away_team  home_score  away_score  \\\n",
      "0    1956-09-23        Germany    Netherlands           2           1   \n",
      "1    1957-07-28        Germany        England           1           1   \n",
      "2    1957-10-13        Germany    Netherlands           2           0   \n",
      "3    1957-11-03    Netherlands        Austria           8           1   \n",
      "4    1957-11-03        Germany        England           0           4   \n",
      "...         ...            ...            ...         ...         ...   \n",
      "9677 2024-08-04       Thailand         Taiwan           2           1   \n",
      "9678 2024-08-06  United States        Germany           1           0   \n",
      "9679 2024-08-06         Brazil          Spain           4           2   \n",
      "9680 2024-08-09          Spain        Germany           0           1   \n",
      "9681 2024-08-10         Brazil  United States           0           1   \n",
      "\n",
      "                 tournament              city   country  neutral  \n",
      "0                  Friendly             Essen   Germany    False  \n",
      "1                  Friendly         Stuttgart   Germany    False  \n",
      "2                  Friendly            Berlin   Germany    False  \n",
      "3     European Championship            Berlin   Germany     True  \n",
      "4     European Championship            Berlin   Germany    False  \n",
      "...                     ...               ...       ...      ...  \n",
      "9677               Friendly           Bangkok  Thailand    False  \n",
      "9678          Olympic Games  Décines-Charpieu    France     True  \n",
      "9679          Olympic Games         Marseille    France     True  \n",
      "9680          Olympic Games  Décines-Charpieu    France     True  \n",
      "9681          Olympic Games             Paris    France     True  \n",
      "\n",
      "[9682 rows x 9 columns]\n",
      "datetime64[ns]\n"
     ]
    }
   ],
   "source": [
    "# Altera a coluna 'date' para 'YYYY-MM-DD'\n",
    "df['date'] = pd.to_datetime(df['date'])\n",
    "print(df)\n",
    "print(df['date'].dtype)\n",
    "\n"
   ]
  },
  {
   "cell_type": "code",
   "execution_count": 55,
   "metadata": {},
   "outputs": [],
   "source": [
    "# 1. Quais são os jogos que aconteceram na Itália em 2015 na cidade de La Spezia? Ocorreu em que data, torneio e resultado?"
   ]
  },
  {
   "cell_type": "code",
   "execution_count": 56,
   "metadata": {},
   "outputs": [
    {
     "name": "stdout",
     "output_type": "stream",
     "text": [
      "           date home_team away_team  home_score  away_score  \\\n",
      "5489 2015-09-18     Italy   Georgia           6           1   \n",
      "\n",
      "                   tournament       city country  neutral  \n",
      "5489  UEFA Euro qualification  La Spezia   Italy    False  \n"
     ]
    }
   ],
   "source": [
    "# Filtrar jogos na Itália em 2015 na cidade de La Spezia\n",
    "italia_la_spezia_2015 = df[(df['country'] == 'Italy') & (df['date'].dt.year == 2015) & (df['city'] == 'La Spezia')]\n",
    "print(italia_la_spezia_2015)\n"
   ]
  },
  {
   "cell_type": "code",
   "execution_count": 57,
   "metadata": {},
   "outputs": [],
   "source": [
    "# Data do Jogo: 18 de setembro de 2015\n",
    "# Time da Casa (Home Team): Itália\n",
    "# Time Visitante (Away Team): Geórgia\n",
    "# Placar: Itália 6 x 1 Geórgia\n",
    "# Torneio: Qualificação da UEFA Euro\n",
    "# Cidade: La Spezia\n",
    "# País: Itália\n",
    "# Jogo Neutro: False\n"
   ]
  },
  {
   "cell_type": "code",
   "execution_count": 58,
   "metadata": {},
   "outputs": [],
   "source": [
    "# 2. Qual foi a quantidade de jogos realizados no Brasil? E qual foi o número de cidades que receberam estes jogos?"
   ]
  },
  {
   "cell_type": "code",
   "execution_count": 59,
   "metadata": {},
   "outputs": [
    {
     "name": "stdout",
     "output_type": "stream",
     "text": [
      "Total de jogos no Brasil: 152\n",
      "Número de cidades no Brasil: 17\n"
     ]
    }
   ],
   "source": [
    "jogos_brasil = df[df['country'] == 'Brazil']\n",
    "total_jogos_brasil = len(jogos_brasil)\n",
    "cidades_brasil = jogos_brasil['city'].nunique()\n",
    "print(\"Total de jogos no Brasil:\", total_jogos_brasil)\n",
    "print(\"Número de cidades no Brasil:\", cidades_brasil)"
   ]
  },
  {
   "cell_type": "code",
   "execution_count": 60,
   "metadata": {},
   "outputs": [],
   "source": [
    "# 3. Jogando em casa, quantos jogos o Brasil acumulou? Quantos gols em média o Brasil marcou por jogos?"
   ]
  },
  {
   "cell_type": "code",
   "execution_count": 61,
   "metadata": {},
   "outputs": [
    {
     "name": "stdout",
     "output_type": "stream",
     "text": [
      "Jogos em casa do Brasil: 73\n",
      "Média de gols em casa: 3.780821917808219\n"
     ]
    }
   ],
   "source": [
    "brasil_casa = df[(df['country'] == 'Brazil') & (df['home_team'] == 'Brazil')]\n",
    "total_jogos_brasil_casa = len(brasil_casa)\n",
    "gols_brasil_casa = brasil_casa['home_score'].sum()\n",
    "media_gols_casa = gols_brasil_casa / total_jogos_brasil_casa\n",
    "print(\"Jogos em casa do Brasil:\", total_jogos_brasil_casa)\n",
    "print(\"Média de gols em casa:\", media_gols_casa)"
   ]
  },
  {
   "cell_type": "code",
   "execution_count": 62,
   "metadata": {},
   "outputs": [],
   "source": [
    "# 4. Qual foi a quantidade de jogos realizados na Albania, United States e Zambia, respectivamente? \n",
    "# Especificamente na Albania, em quantas cidades os jogos foram realizados e as respectivas cidades?"
   ]
  },
  {
   "cell_type": "code",
   "execution_count": 63,
   "metadata": {},
   "outputs": [
    {
     "name": "stdout",
     "output_type": "stream",
     "text": [
      "Total de jogos em Albania: 37\n",
      "Total de jogos em United States: 474\n",
      "Total de jogos em Zambia: 22\n",
      "Número de cidades na Albânia: 7\n",
      "Cidades na Albânia: [\"Ta' Qali\" 'Tirana' 'Durrës' 'Fier' 'Durres' 'Elbasan' 'Shkodër']\n"
     ]
    }
   ],
   "source": [
    "paises = ['Albania', 'United States', 'Zambia']\n",
    "for pais in paises:\n",
    "    total_jogos = len(df[df['country'] == pais])\n",
    "    print(f\"Total de jogos em {pais}: {total_jogos}\")\n",
    "\n",
    "# Para a Albânia, as cidades podem ser obtidas com:\n",
    "cidades_albania = df[df['country'] == 'Albania']['city'].unique() \n",
    "print(\"Número de cidades na Albânia:\", len(cidades_albania))\n",
    "print(\"Cidades na Albânia:\", cidades_albania)"
   ]
  },
  {
   "cell_type": "code",
   "execution_count": 64,
   "metadata": {},
   "outputs": [],
   "source": [
    "# 5. Considerando o ano de 2016, quais cidades sediaram jogos no Brasil? E quantos jogos cada cidade sediou?"
   ]
  },
  {
   "cell_type": "code",
   "execution_count": 65,
   "metadata": {},
   "outputs": [
    {
     "name": "stdout",
     "output_type": "stream",
     "text": [
      "city\n",
      "Manaus            10\n",
      "São Paulo          6\n",
      "Rio de Janeiro     6\n",
      "Belo Horizonte     6\n",
      "Brasília           3\n",
      "Salvador           3\n",
      "Fortaleza          1\n",
      "Name: count, dtype: int64\n"
     ]
    }
   ],
   "source": [
    "brasil_2016 = df[(df['country'] == 'Brazil') & (df['date'].dt.year == 2016)]\n",
    "cidades_brasil_2016 = brasil_2016['city'].value_counts()\n",
    "print(cidades_brasil_2016)"
   ]
  },
  {
   "cell_type": "code",
   "execution_count": 66,
   "metadata": {},
   "outputs": [],
   "source": [
    "# 6. Qual foi o jogo que apresentou o maior número de gols? Apresente o nome dos países, campeonato, ano e número de gols."
   ]
  },
  {
   "cell_type": "code",
   "execution_count": 67,
   "metadata": {},
   "outputs": [
    {
     "name": "stdout",
     "output_type": "stream",
     "text": [
      "           date home_team     away_team  home_score  away_score  \\\n",
      "2588 2006-11-10  Cameroon  South Africa           2          24   \n",
      "\n",
      "                tournament   city  country  neutral  total_goals  \n",
      "2588  African Championship  Delta  Nigeria     True           26  \n"
     ]
    }
   ],
   "source": [
    "# Criar a coluna 'total_goals'\n",
    "df['total_goals'] = df['home_score'] + df['away_score']\n",
    "\n",
    "# Encontrar o jogo com mais gols\n",
    "jogo_mais_gols = df[df['total_goals'] == df['total_goals'].max()]\n",
    "print(jogo_mais_gols)"
   ]
  },
  {
   "cell_type": "code",
   "execution_count": 68,
   "metadata": {},
   "outputs": [],
   "source": [
    "# 7. Qual foi a cidade e o país que sediaram o maior número de partidas? Quantas partidas foram realizadas?"
   ]
  },
  {
   "cell_type": "code",
   "execution_count": 69,
   "metadata": {},
   "outputs": [
    {
     "name": "stdout",
     "output_type": "stream",
     "text": [
      "País e Cidade com mais jogos: ('Cyprus', 'Larnaca')\n",
      "Total de jogos: 141\n"
     ]
    }
   ],
   "source": [
    "cidade_pais_mais_jogos = df.groupby(['country', 'city']).size().idxmax()\n",
    "total_jogos_mais_jogos = df.groupby(['country', 'city']).size().max()\n",
    "print(f\"País e Cidade com mais jogos: {cidade_pais_mais_jogos}\")\n",
    "print(f\"Total de jogos: {total_jogos_mais_jogos}\")"
   ]
  },
  {
   "cell_type": "code",
   "execution_count": 70,
   "metadata": {},
   "outputs": [],
   "source": [
    "# 8. Qual foi a data do último jogo registrado no dataset? Apresente a data, torneio e cidade onde este jogo foi realizado."
   ]
  },
  {
   "cell_type": "code",
   "execution_count": 71,
   "metadata": {},
   "outputs": [
    {
     "name": "stdout",
     "output_type": "stream",
     "text": [
      "           date home_team      away_team  home_score  away_score  \\\n",
      "9681 2024-08-10    Brazil  United States           0           1   \n",
      "\n",
      "         tournament   city country  neutral  total_goals  \n",
      "9681  Olympic Games  Paris  France     True            1  \n"
     ]
    }
   ],
   "source": [
    "ultimo_jogo = df.sort_values(by='date').tail(1)\n",
    "print(ultimo_jogo)"
   ]
  }
 ],
 "metadata": {
  "kernelspec": {
   "display_name": "Python 3",
   "language": "python",
   "name": "python3"
  },
  "language_info": {
   "codemirror_mode": {
    "name": "ipython",
    "version": 3
   },
   "file_extension": ".py",
   "mimetype": "text/x-python",
   "name": "python",
   "nbconvert_exporter": "python",
   "pygments_lexer": "ipython3",
   "version": "3.12.7"
  }
 },
 "nbformat": 4,
 "nbformat_minor": 2
}
