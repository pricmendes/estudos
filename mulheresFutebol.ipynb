{
 "cells": [
  {
   "cell_type": "code",
   "execution_count": 111,
   "metadata": {},
   "outputs": [],
   "source": [
    "import pandas as pd"
   ]
  },
  {
   "cell_type": "code",
   "execution_count": 112,
   "metadata": {},
   "outputs": [],
   "source": [
    "# Carregando os dados\n",
    "df = pd.read_csv(r\"\\results.csv\")"
   ]
  },
  {
   "cell_type": "code",
   "execution_count": 113,
   "metadata": {},
   "outputs": [
    {
     "name": "stdout",
     "output_type": "stream",
     "text": [
      "           date      home_team      away_team  home_score  away_score  \\\n",
      "0    1956-09-23        Germany    Netherlands           2           1   \n",
      "1    1957-07-28        Germany        England           1           1   \n",
      "2    1957-10-13        Germany    Netherlands           2           0   \n",
      "3    1957-11-03    Netherlands        Austria           8           1   \n",
      "4    1957-11-03        Germany        England           0           4   \n",
      "...         ...            ...            ...         ...         ...   \n",
      "9677 2024-08-04       Thailand         Taiwan           2           1   \n",
      "9678 2024-08-06  United States        Germany           1           0   \n",
      "9679 2024-08-06         Brazil          Spain           4           2   \n",
      "9680 2024-08-09          Spain        Germany           0           1   \n",
      "9681 2024-08-10         Brazil  United States           0           1   \n",
      "\n",
      "                 tournament              city   country  neutral  \n",
      "0                  Friendly             Essen   Germany    False  \n",
      "1                  Friendly         Stuttgart   Germany    False  \n",
      "2                  Friendly            Berlin   Germany    False  \n",
      "3     European Championship            Berlin   Germany     True  \n",
      "4     European Championship            Berlin   Germany    False  \n",
      "...                     ...               ...       ...      ...  \n",
      "9677               Friendly           Bangkok  Thailand    False  \n",
      "9678          Olympic Games  Décines-Charpieu    France     True  \n",
      "9679          Olympic Games         Marseille    France     True  \n",
      "9680          Olympic Games  Décines-Charpieu    France     True  \n",
      "9681          Olympic Games             Paris    France     True  \n",
      "\n",
      "[9682 rows x 9 columns]\n",
      "datetime64[ns]\n"
     ]
    }
   ],
   "source": [
    "# Altera a coluna 'date' para 'YYYY-MM-DD'\n",
    "df['date'] = pd.to_datetime(df['date'])\n",
    "print(df)\n",
    "print(df['date'].dtype)\n",
    "\n"
   ]
  },
  {
   "cell_type": "code",
   "execution_count": 114,
   "metadata": {},
   "outputs": [],
   "source": [
    "# 1. Quais são os jogos que aconteceram na Itália em 2015 na cidade de La Spezia? Ocorreu em que data, torneio e resultado?"
   ]
  },
  {
   "cell_type": "code",
   "execution_count": 115,
   "metadata": {},
   "outputs": [
    {
     "name": "stdout",
     "output_type": "stream",
     "text": [
      "Data: 2015-09-18\n",
      "Torneio: UEFA Euro qualification\n",
      "Jogo: Italy 6 x 1 Georgia\n",
      "\n"
     ]
    }
   ],
   "source": [
    "# Filtrar jogos na Itália em 2015 na cidade de La Spezia\n",
    "italia_la_spezia_2015 = df[(df['country'] == 'Italy') & (df['date'].dt.year == 2015) & (df['city'] == 'La Spezia')]\n",
    "\n",
    "# Selecionar as colunas relevantes e formatar a saída\n",
    "for index, row in italia_la_spezia_2015.iterrows():\n",
    "    # Formatando a data diretamente usando .strftime() no objeto 'Timestamp'\n",
    "    print(f\"Data: {row['date'].strftime('%Y-%m-%d')}\")\n",
    "    print(f\"Torneio: {row['tournament']}\")\n",
    "    print(f\"Jogo: {row['home_team']} {row['home_score']} x {row['away_score']} {row['away_team']}\")\n",
    "    print()\n",
    "\n",
    "    \n",
    "    "
   ]
  },
  {
   "cell_type": "code",
   "execution_count": 116,
   "metadata": {},
   "outputs": [],
   "source": [
    "# 2. Qual foi a quantidade de jogos realizados no Brasil? E qual foi o número de cidades que receberam estes jogos?"
   ]
  },
  {
   "cell_type": "code",
   "execution_count": 117,
   "metadata": {},
   "outputs": [
    {
     "name": "stdout",
     "output_type": "stream",
     "text": [
      "\n",
      "2. Qual foi a quantidade de jogos realizados no Brasil? E qual foi o número de cidades que receberam estes jogos?\n",
      "\n",
      "Total de jogos no Brasil: 152\n",
      "Número de cidades no Brasil: 17\n"
     ]
    }
   ],
   "source": [
    "jogos_brasil = df[df['country'] == 'Brazil']\n",
    "total_jogos_brasil = len(jogos_brasil)\n",
    "cidades_brasil = jogos_brasil['city'].nunique()\n",
    "print(\"\\n2. Qual foi a quantidade de jogos realizados no Brasil? E qual foi o número de cidades que receberam estes jogos?\\n\")\n",
    "print(\"Total de jogos no Brasil:\", total_jogos_brasil)\n",
    "print(\"Número de cidades no Brasil:\", cidades_brasil)\n"
   ]
  },
  {
   "cell_type": "code",
   "execution_count": 118,
   "metadata": {},
   "outputs": [],
   "source": [
    "# 3. Jogando em casa, quantos jogos o Brasil acumulou? Quantos gols em média o Brasil marcou por jogos?"
   ]
  },
  {
   "cell_type": "code",
   "execution_count": 119,
   "metadata": {},
   "outputs": [
    {
     "name": "stdout",
     "output_type": "stream",
     "text": [
      "\n",
      "3. Jogando em casa, quantos jogos o Brasil acumulou? Quantos gols em média o Brasil marcou por jogos?\n",
      "\n",
      "Jogos em casa do Brasil: 73\n",
      "Média de gols em casa: 3.780821917808219\n"
     ]
    }
   ],
   "source": [
    "brasil_casa = df[(df['country'] == 'Brazil') & (df['home_team'] == 'Brazil')]\n",
    "total_jogos_brasil_casa = len(brasil_casa)\n",
    "gols_brasil_casa = brasil_casa['home_score'].sum()\n",
    "media_gols_casa = gols_brasil_casa / total_jogos_brasil_casa\n",
    "print(\"\\n3. Jogando em casa, quantos jogos o Brasil acumulou? Quantos gols em média o Brasil marcou por jogos?\\n\")\n",
    "print(\"Jogos em casa do Brasil:\", total_jogos_brasil_casa)\n",
    "print(\"Média de gols em casa:\", media_gols_casa)"
   ]
  },
  {
   "cell_type": "code",
   "execution_count": 120,
   "metadata": {},
   "outputs": [],
   "source": [
    "# 4. Qual foi a quantidade de jogos realizados na Albania, United States e Zambia, respectivamente? \n",
    "# Especificamente na Albania, em quantas cidades os jogos foram realizados e as respectivas cidades?"
   ]
  },
  {
   "cell_type": "code",
   "execution_count": 121,
   "metadata": {},
   "outputs": [
    {
     "name": "stdout",
     "output_type": "stream",
     "text": [
      "\n",
      "4. Qual foi a quantidade de jogos realizados na Albania, United States e Zambia, respectivamente? Especificamente na Albania, em quantas cidades os jogos foram realizados e as respectivas cidades?\n",
      "\n",
      "Total de jogos em Albania: 37\n",
      "Total de jogos em United States: 474\n",
      "Total de jogos em Zambia: 22\n",
      "Número de cidades na Albânia: 7\n",
      "Cidades na Albânia: [\"Ta' Qali\" 'Tirana' 'Durrës' 'Fier' 'Durres' 'Elbasan' 'Shkodër']\n"
     ]
    }
   ],
   "source": [
    "paises = ['Albania', 'United States', 'Zambia']\n",
    "print(\"\\n4. Qual foi a quantidade de jogos realizados na Albania, United States e Zambia, respectivamente? Especificamente na Albania, em quantas cidades os jogos foram realizados e as respectivas cidades?\\n\")\n",
    "for pais in paises:\n",
    "    total_jogos = len(df[df['country'] == pais])\n",
    "    print(f\"Total de jogos em {pais}: {total_jogos}\")\n",
    "\n",
    "# Para a Albânia, as cidades podem ser obtidas com:\n",
    "cidades_albania = df[df['country'] == 'Albania']['city'].unique()\n",
    "print(\"Número de cidades na Albânia:\", len(cidades_albania))\n",
    "print(\"Cidades na Albânia:\", cidades_albania)"
   ]
  },
  {
   "cell_type": "code",
   "execution_count": 122,
   "metadata": {},
   "outputs": [],
   "source": [
    "# 5. Considerando o ano de 2016, quais cidades sediaram jogos no Brasil? E quantos jogos cada cidade sediou?"
   ]
  },
  {
   "cell_type": "code",
   "execution_count": 123,
   "metadata": {},
   "outputs": [
    {
     "name": "stdout",
     "output_type": "stream",
     "text": [
      "\n",
      "5. Considerando o ano de 2016, quais cidades sediaram jogos no Brasil? E quantos jogos cada cidade sediou?\n",
      "\n",
      "city\n",
      "Manaus            10\n",
      "São Paulo          6\n",
      "Rio de Janeiro     6\n",
      "Belo Horizonte     6\n",
      "Brasília           3\n",
      "Salvador           3\n",
      "Fortaleza          1\n",
      "Name: count, dtype: int64\n"
     ]
    }
   ],
   "source": [
    "brasil_2016 = df[(df['country'] == 'Brazil') & (df['date'].dt.year == 2016)]\n",
    "cidades_brasil_2016 = brasil_2016['city'].value_counts()\n",
    "print(\"\\n5. Considerando o ano de 2016, quais cidades sediaram jogos no Brasil? E quantos jogos cada cidade sediou?\\n\")\n",
    "print(cidades_brasil_2016)"
   ]
  },
  {
   "cell_type": "code",
   "execution_count": 124,
   "metadata": {},
   "outputs": [],
   "source": [
    "# 6. Qual foi o jogo que apresentou o maior número de gols? Apresente o nome dos países, campeonato, ano e número de gols."
   ]
  },
  {
   "cell_type": "code",
   "execution_count": 125,
   "metadata": {},
   "outputs": [
    {
     "name": "stdout",
     "output_type": "stream",
     "text": [
      "\n",
      "6. Qual foi o jogo que apresentou o maior número de gols? Apresente o nome dos países, campeonato, ano e número de gols.\n",
      "\n",
      "Países: ('Cameroon', 'South Africa')\n",
      "Campeonato: African Championship\n",
      "Ano: 2006\n",
      "Total de gols: 26\n"
     ]
    }
   ],
   "source": [
    "# Encontrar o jogo com o maior número de gols\n",
    "df['total_goals'] = df['home_score'] + df['away_score']\n",
    "jogo_maior_gols = df.loc[df['total_goals'].idxmax()]\n",
    "\n",
    "# Extrair informações\n",
    "maior_gols_paises = (jogo_maior_gols['home_team'], jogo_maior_gols['away_team'])\n",
    "maior_gols_campeonato = jogo_maior_gols['tournament']\n",
    "maior_gols_ano = jogo_maior_gols['date'].year\n",
    "maior_gols_total = jogo_maior_gols['total_goals']\n",
    "\n",
    "print(\"\\n6. Qual foi o jogo que apresentou o maior número de gols? Apresente o nome dos países, campeonato, ano e número de gols.\\n\")\n",
    "print(\"Países:\", maior_gols_paises)\n",
    "print(\"Campeonato:\", maior_gols_campeonato)\n",
    "print(\"Ano:\", maior_gols_ano)\n",
    "print(\"Total de gols:\", maior_gols_total)"
   ]
  },
  {
   "cell_type": "code",
   "execution_count": 126,
   "metadata": {},
   "outputs": [],
   "source": [
    "# 7. Qual foi a cidade e o país que sediaram o maior número de partidas? Quantas partidas foram realizadas?"
   ]
  },
  {
   "cell_type": "code",
   "execution_count": 127,
   "metadata": {},
   "outputs": [
    {
     "name": "stdout",
     "output_type": "stream",
     "text": [
      "\n",
      "7. Qual foi a cidade e o país que sediaram o maior número de partidas? Quantas partidas foram realizadas?\n",
      "\n",
      "País que sediou o maior número de partidas: Cyprus\n",
      "Cidade que sediou o maior número de partidas: Larnaca\n",
      "Total de jogos: 141\n"
     ]
    }
   ],
   "source": [
    "cidade_mais_jogos, pais_mais_jogos = df.groupby(['city', 'country']).size().idxmax()\n",
    "total_jogos_mais_jogos = df.groupby(['country', 'city']).size().max()\n",
    "print(\"\\n7. Qual foi a cidade e o país que sediaram o maior número de partidas? Quantas partidas foram realizadas?\\n\")\n",
    "print(f\"País que sediou o maior número de partidas: {pais_mais_jogos}\")\n",
    "print(f\"Cidade que sediou o maior número de partidas: {cidade_mais_jogos}\")\n",
    "print(f\"Total de jogos: {total_jogos_mais_jogos}\")"
   ]
  },
  {
   "cell_type": "code",
   "execution_count": 128,
   "metadata": {},
   "outputs": [],
   "source": [
    "# 8. Qual foi a data do último jogo registrado no dataset? Apresente a data, torneio e cidade onde este jogo foi realizado."
   ]
  },
  {
   "cell_type": "code",
   "execution_count": 129,
   "metadata": {},
   "outputs": [
    {
     "name": "stdout",
     "output_type": "stream",
     "text": [
      "\n",
      "8. Qual foi a data do último jogo registrado no dataset? Apresente a data, torneio e cidade onde este jogo foi realizado.\n",
      "\n",
      "Data do último jogo: 2024-08-10\n",
      "Torneio: Olympic Games\n",
      "Cidade: Paris\n"
     ]
    }
   ],
   "source": [
    "ultimo_jogo = df.sort_values(by='date').tail(1)\n",
    "\n",
    "# Formatando a data para um formato mais legível (ajuste o formato conforme necessário)\n",
    "data_ultimo_jogo = ultimo_jogo['date'].dt.strftime('%Y-%m-%d')\n",
    "\n",
    "print(\"\\n8. Qual foi a data do último jogo registrado no dataset? Apresente a data, torneio e cidade onde este jogo foi realizado.\\n\")\n",
    "print(\"Data do último jogo:\", data_ultimo_jogo.values[0])\n",
    "print(\"Torneio:\", ultimo_jogo['tournament'].values[0])\n",
    "print(\"Cidade:\", ultimo_jogo['city'].values[0])"
   ]
  }
 ],
 "metadata": {
  "kernelspec": {
   "display_name": "Python 3",
   "language": "python",
   "name": "python3"
  },
  "language_info": {
   "codemirror_mode": {
    "name": "ipython",
    "version": 3
   },
   "file_extension": ".py",
   "mimetype": "text/x-python",
   "name": "python",
   "nbconvert_exporter": "python",
   "pygments_lexer": "ipython3",
   "version": "3.12.7"
  }
 },
 "nbformat": 4,
 "nbformat_minor": 2
}
